{
 "cells": [
  {
   "cell_type": "code",
   "execution_count": null,
   "metadata": {},
   "outputs": [],
   "source": [
    "import os, sys\n",
    "from pathlib import Path\n",
    "sys.path = list({\"../../lib\"}|set(sys.path))\n",
    "from local.constants import WORKSPACE_ROOT\n",
    "\n",
    "ws = Path(\"cache/cb2a\")\n",
    "ws.mkdir(parents=True, exist_ok=True)"
   ]
  },
  {
   "cell_type": "code",
   "execution_count": null,
   "metadata": {},
   "outputs": [],
   "source": [
    "gb_list = ws/\"gb_list\"\n",
    "\n",
    "gbs = WORKSPACE_ROOT/\"data/pangenome_genbanks\"\n",
    "with open(gb_list, \"w\") as f:\n",
    "    for p in gbs.iterdir():\n",
    "        f.write(p.stem+\"\\t\"+str(p)+\"\\n\")\n",
    "os.system(f\"\"\"\\\n",
    "    PATH=/home/tony/lib/miniforge3/envs/bio/bin:$PATH\n",
    "    ppanggolin all --anno {gb_list} --cpu 14 --output {WORKSPACE_ROOT}/data/ppanggolin\n",
    "\"\"\")"
   ]
  }
 ],
 "metadata": {
  "kernelspec": {
   "display_name": "p312",
   "language": "python",
   "name": "python3"
  },
  "language_info": {
   "codemirror_mode": {
    "name": "ipython",
    "version": 3
   },
   "file_extension": ".py",
   "mimetype": "text/x-python",
   "name": "python",
   "nbconvert_exporter": "python",
   "pygments_lexer": "ipython3",
   "version": "3.12.2"
  }
 },
 "nbformat": 4,
 "nbformat_minor": 2
}
